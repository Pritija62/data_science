{
 "cells": [
  {
   "cell_type": "code",
   "execution_count": 4,
   "id": "1a7de8cc-c9a9-469e-87e1-5f4f414e5dee",
   "metadata": {},
   "outputs": [],
   "source": [
    "import numpy as np\n",
    "import pandas as pd"
   ]
  },
  {
   "cell_type": "code",
   "execution_count": 28,
   "id": "f75c2160-89a7-4fa7-b964-0428f75fb1ff",
   "metadata": {},
   "outputs": [
    {
     "name": "stdout",
     "output_type": "stream",
     "text": [
      "     Name   Age         City  Marks   Join Date\n",
      "0   Alice  22.0     New York   85.0  2024-01-15\n",
      "1     bob  19.0      chicago   90.0  2023/12/20\n",
      "2  Clara    NaN  Los Angeles   78.0  15-02-2024\n",
      "3   David  25.0     new york   88.0  2024.03.10\n",
      "4     Eva  20.0      Chicago    NaN  2024-05-01\n",
      "5   Frank  23.0          NaN   92.0  2023-11-30\n",
      "6    Gina  21.0  los angeles   75.0         NaN\n",
      "7   Henry  29.0      Chicago   60.0  2024/07/15\n",
      "8     Ivy   NaN     New York   55.0  2024-08-01\n",
      "9     NaN  24.0      chicago    NaN  2024-08-15\n"
     ]
    }
   ],
   "source": [
    "df= pd.read_csv(\"messy_dataset.csv\")\n",
    "print(df)"
   ]
  },
  {
   "cell_type": "code",
   "execution_count": 29,
   "id": "ddd113c5-813b-426c-a050-87a9ea56fca5",
   "metadata": {},
   "outputs": [
    {
     "data": {
      "text/plain": [
       "(10, 5)"
      ]
     },
     "execution_count": 29,
     "metadata": {},
     "output_type": "execute_result"
    }
   ],
   "source": [
    "df.shape"
   ]
  },
  {
   "cell_type": "code",
   "execution_count": 30,
   "id": "c3128df4-59d1-4f69-9e4c-8dc3f04b6c4c",
   "metadata": {},
   "outputs": [
    {
     "data": {
      "text/html": [
       "<div>\n",
       "<style scoped>\n",
       "    .dataframe tbody tr th:only-of-type {\n",
       "        vertical-align: middle;\n",
       "    }\n",
       "\n",
       "    .dataframe tbody tr th {\n",
       "        vertical-align: top;\n",
       "    }\n",
       "\n",
       "    .dataframe thead th {\n",
       "        text-align: right;\n",
       "    }\n",
       "</style>\n",
       "<table border=\"1\" class=\"dataframe\">\n",
       "  <thead>\n",
       "    <tr style=\"text-align: right;\">\n",
       "      <th></th>\n",
       "      <th>Name</th>\n",
       "      <th>Age</th>\n",
       "      <th>City</th>\n",
       "      <th>Marks</th>\n",
       "      <th>Join Date</th>\n",
       "    </tr>\n",
       "  </thead>\n",
       "  <tbody>\n",
       "    <tr>\n",
       "      <th>0</th>\n",
       "      <td>Alice</td>\n",
       "      <td>22.0</td>\n",
       "      <td>New York</td>\n",
       "      <td>85.0</td>\n",
       "      <td>2024-01-15</td>\n",
       "    </tr>\n",
       "    <tr>\n",
       "      <th>1</th>\n",
       "      <td>bob</td>\n",
       "      <td>19.0</td>\n",
       "      <td>chicago</td>\n",
       "      <td>90.0</td>\n",
       "      <td>2023/12/20</td>\n",
       "    </tr>\n",
       "    <tr>\n",
       "      <th>3</th>\n",
       "      <td>David</td>\n",
       "      <td>25.0</td>\n",
       "      <td>new york</td>\n",
       "      <td>88.0</td>\n",
       "      <td>2024.03.10</td>\n",
       "    </tr>\n",
       "    <tr>\n",
       "      <th>7</th>\n",
       "      <td>Henry</td>\n",
       "      <td>29.0</td>\n",
       "      <td>Chicago</td>\n",
       "      <td>60.0</td>\n",
       "      <td>2024/07/15</td>\n",
       "    </tr>\n",
       "  </tbody>\n",
       "</table>\n",
       "</div>"
      ],
      "text/plain": [
       "     Name   Age      City  Marks   Join Date\n",
       "0   Alice  22.0  New York   85.0  2024-01-15\n",
       "1     bob  19.0   chicago   90.0  2023/12/20\n",
       "3   David  25.0  new york   88.0  2024.03.10\n",
       "7   Henry  29.0   Chicago   60.0  2024/07/15"
      ]
     },
     "execution_count": 30,
     "metadata": {},
     "output_type": "execute_result"
    }
   ],
   "source": [
    "# removign rows that have null values\n",
    "df.dropna()"
   ]
  },
  {
   "cell_type": "code",
   "execution_count": 31,
   "id": "415bfc70-5e8d-4458-9576-84cc01111532",
   "metadata": {},
   "outputs": [
    {
     "name": "stdout",
     "output_type": "stream",
     "text": [
      "<class 'pandas.core.frame.DataFrame'>\n",
      "RangeIndex: 10 entries, 0 to 9\n",
      "Data columns (total 5 columns):\n",
      " #   Column     Non-Null Count  Dtype  \n",
      "---  ------     --------------  -----  \n",
      " 0   Name       9 non-null      object \n",
      " 1   Age        8 non-null      float64\n",
      " 2   City       9 non-null      object \n",
      " 3   Marks      8 non-null      float64\n",
      " 4   Join Date  9 non-null      object \n",
      "dtypes: float64(2), object(3)\n",
      "memory usage: 532.0+ bytes\n",
      "None\n"
     ]
    }
   ],
   "source": [
    "print(df.info())"
   ]
  },
  {
   "cell_type": "code",
   "execution_count": null,
   "id": "20411d6e-3f44-4c0a-a498-71c68f9506ca",
   "metadata": {},
   "outputs": [],
   "source": [
    "df[\"Join Date\"] = pd.to_datetime(df[\"Join Date\"], errors=\"coerce\")\n",
    "\n",
    "print(df)"
   ]
  },
  {
   "cell_type": "code",
   "execution_count": null,
   "id": "3b6abe30-fe1f-4f93-8181-7b03cdc636bd",
   "metadata": {},
   "outputs": [],
   "source": []
  }
 ],
 "metadata": {
  "kernelspec": {
   "display_name": "Python 3 (ipykernel)",
   "language": "python",
   "name": "python3"
  },
  "language_info": {
   "codemirror_mode": {
    "name": "ipython",
    "version": 3
   },
   "file_extension": ".py",
   "mimetype": "text/x-python",
   "name": "python",
   "nbconvert_exporter": "python",
   "pygments_lexer": "ipython3",
   "version": "3.13.5"
  }
 },
 "nbformat": 4,
 "nbformat_minor": 5
}

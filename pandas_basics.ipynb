{
 "cells": [
  {
   "cell_type": "code",
   "execution_count": 135,
   "id": "cb253fe5-64da-444d-8d8c-fc3f43e287ca",
   "metadata": {},
   "outputs": [],
   "source": [
    "import numpy as np\n",
    "import pandas as pd\n"
   ]
  },
  {
   "cell_type": "markdown",
   "id": "6f7491f8-f82a-4026-8548-cc85389423ca",
   "metadata": {},
   "source": [
    "### Viewing Data"
   ]
  },
  {
   "cell_type": "code",
   "execution_count": 136,
   "id": "3690563a-a183-4616-8c98-971140d288c6",
   "metadata": {},
   "outputs": [
    {
     "name": "stdout",
     "output_type": "stream",
     "text": [
      "    Name  age city\n",
      "0  Priti   21  ktm\n",
      "1   Puja   33  Bkt\n",
      "2    Ram   26  Bkr\n",
      "3  shyam   32  ltr\n",
      "4   hari   30  ktm\n"
     ]
    }
   ],
   "source": [
    "# creating dataframe \n",
    "\n",
    "data = {\n",
    "    \"Name\":[\"Priti\",\"Puja\",\"Ram\" ,\"shyam\" ,\"hari\"],\n",
    "    \"age\":[21,33,26,32,30],\n",
    "    \"city\":[\"ktm\",\"Bkt\",\"Bkr\",\"ltr\",\"ktm\"]\n",
    "}\n",
    "df = pd.DataFrame(data)\n",
    "print(df)"
   ]
  },
  {
   "cell_type": "code",
   "execution_count": 137,
   "id": "b90d19e3-80ed-43ce-897e-48e38160749e",
   "metadata": {},
   "outputs": [
    {
     "data": {
      "text/html": [
       "<div>\n",
       "<style scoped>\n",
       "    .dataframe tbody tr th:only-of-type {\n",
       "        vertical-align: middle;\n",
       "    }\n",
       "\n",
       "    .dataframe tbody tr th {\n",
       "        vertical-align: top;\n",
       "    }\n",
       "\n",
       "    .dataframe thead th {\n",
       "        text-align: right;\n",
       "    }\n",
       "</style>\n",
       "<table border=\"1\" class=\"dataframe\">\n",
       "  <thead>\n",
       "    <tr style=\"text-align: right;\">\n",
       "      <th></th>\n",
       "      <th>Name</th>\n",
       "      <th>age</th>\n",
       "      <th>city</th>\n",
       "    </tr>\n",
       "  </thead>\n",
       "  <tbody>\n",
       "    <tr>\n",
       "      <th>0</th>\n",
       "      <td>Priti</td>\n",
       "      <td>21</td>\n",
       "      <td>ktm</td>\n",
       "    </tr>\n",
       "    <tr>\n",
       "      <th>1</th>\n",
       "      <td>Puja</td>\n",
       "      <td>33</td>\n",
       "      <td>Bkt</td>\n",
       "    </tr>\n",
       "  </tbody>\n",
       "</table>\n",
       "</div>"
      ],
      "text/plain": [
       "    Name  age city\n",
       "0  Priti   21  ktm\n",
       "1   Puja   33  Bkt"
      ]
     },
     "execution_count": 137,
     "metadata": {},
     "output_type": "execute_result"
    }
   ],
   "source": [
    "# printing first two elements of the data\n",
    "df.head(2)"
   ]
  },
  {
   "cell_type": "code",
   "execution_count": 138,
   "id": "2260f52d-34f5-45de-9590-402b7b7ad817",
   "metadata": {},
   "outputs": [
    {
     "data": {
      "text/html": [
       "<div>\n",
       "<style scoped>\n",
       "    .dataframe tbody tr th:only-of-type {\n",
       "        vertical-align: middle;\n",
       "    }\n",
       "\n",
       "    .dataframe tbody tr th {\n",
       "        vertical-align: top;\n",
       "    }\n",
       "\n",
       "    .dataframe thead th {\n",
       "        text-align: right;\n",
       "    }\n",
       "</style>\n",
       "<table border=\"1\" class=\"dataframe\">\n",
       "  <thead>\n",
       "    <tr style=\"text-align: right;\">\n",
       "      <th></th>\n",
       "      <th>Name</th>\n",
       "      <th>age</th>\n",
       "      <th>city</th>\n",
       "    </tr>\n",
       "  </thead>\n",
       "  <tbody>\n",
       "    <tr>\n",
       "      <th>2</th>\n",
       "      <td>Ram</td>\n",
       "      <td>26</td>\n",
       "      <td>Bkr</td>\n",
       "    </tr>\n",
       "    <tr>\n",
       "      <th>3</th>\n",
       "      <td>shyam</td>\n",
       "      <td>32</td>\n",
       "      <td>ltr</td>\n",
       "    </tr>\n",
       "    <tr>\n",
       "      <th>4</th>\n",
       "      <td>hari</td>\n",
       "      <td>30</td>\n",
       "      <td>ktm</td>\n",
       "    </tr>\n",
       "  </tbody>\n",
       "</table>\n",
       "</div>"
      ],
      "text/plain": [
       "    Name  age city\n",
       "2    Ram   26  Bkr\n",
       "3  shyam   32  ltr\n",
       "4   hari   30  ktm"
      ]
     },
     "execution_count": 138,
     "metadata": {},
     "output_type": "execute_result"
    }
   ],
   "source": [
    "#printing last three elements of the data\n",
    "df.tail(3)"
   ]
  },
  {
   "cell_type": "code",
   "execution_count": 139,
   "id": "3b124cea-b896-4b64-8061-042f7439e471",
   "metadata": {},
   "outputs": [
    {
     "name": "stdout",
     "output_type": "stream",
     "text": [
      "<class 'pandas.core.frame.DataFrame'>\n",
      "RangeIndex: 5 entries, 0 to 4\n",
      "Data columns (total 3 columns):\n",
      " #   Column  Non-Null Count  Dtype \n",
      "---  ------  --------------  ----- \n",
      " 0   Name    5 non-null      object\n",
      " 1   age     5 non-null      int64 \n",
      " 2   city    5 non-null      object\n",
      "dtypes: int64(1), object(2)\n",
      "memory usage: 252.0+ bytes\n"
     ]
    }
   ],
   "source": [
    "#getting information about data\n",
    "df.info()"
   ]
  },
  {
   "cell_type": "code",
   "execution_count": 140,
   "id": "035757f3-6afc-4d3d-a064-37b4f41aae61",
   "metadata": {},
   "outputs": [
    {
     "data": {
      "text/html": [
       "<div>\n",
       "<style scoped>\n",
       "    .dataframe tbody tr th:only-of-type {\n",
       "        vertical-align: middle;\n",
       "    }\n",
       "\n",
       "    .dataframe tbody tr th {\n",
       "        vertical-align: top;\n",
       "    }\n",
       "\n",
       "    .dataframe thead th {\n",
       "        text-align: right;\n",
       "    }\n",
       "</style>\n",
       "<table border=\"1\" class=\"dataframe\">\n",
       "  <thead>\n",
       "    <tr style=\"text-align: right;\">\n",
       "      <th></th>\n",
       "      <th>age</th>\n",
       "    </tr>\n",
       "  </thead>\n",
       "  <tbody>\n",
       "    <tr>\n",
       "      <th>count</th>\n",
       "      <td>5.000000</td>\n",
       "    </tr>\n",
       "    <tr>\n",
       "      <th>mean</th>\n",
       "      <td>28.400000</td>\n",
       "    </tr>\n",
       "    <tr>\n",
       "      <th>std</th>\n",
       "      <td>4.929503</td>\n",
       "    </tr>\n",
       "    <tr>\n",
       "      <th>min</th>\n",
       "      <td>21.000000</td>\n",
       "    </tr>\n",
       "    <tr>\n",
       "      <th>25%</th>\n",
       "      <td>26.000000</td>\n",
       "    </tr>\n",
       "    <tr>\n",
       "      <th>50%</th>\n",
       "      <td>30.000000</td>\n",
       "    </tr>\n",
       "    <tr>\n",
       "      <th>75%</th>\n",
       "      <td>32.000000</td>\n",
       "    </tr>\n",
       "    <tr>\n",
       "      <th>max</th>\n",
       "      <td>33.000000</td>\n",
       "    </tr>\n",
       "  </tbody>\n",
       "</table>\n",
       "</div>"
      ],
      "text/plain": [
       "             age\n",
       "count   5.000000\n",
       "mean   28.400000\n",
       "std     4.929503\n",
       "min    21.000000\n",
       "25%    26.000000\n",
       "50%    30.000000\n",
       "75%    32.000000\n",
       "max    33.000000"
      ]
     },
     "execution_count": 140,
     "metadata": {},
     "output_type": "execute_result"
    }
   ],
   "source": [
    "#getting statistics discription of the data\n",
    "df.describe()"
   ]
  },
  {
   "cell_type": "markdown",
   "id": "13fae1c0-a91b-421f-bd30-114b05da6dc8",
   "metadata": {
    "jp-MarkdownHeadingCollapsed": true
   },
   "source": [
    "### Selecting Data"
   ]
  },
  {
   "cell_type": "code",
   "execution_count": 141,
   "id": "2475277f-23da-496c-ab55-6e230c4a9f67",
   "metadata": {},
   "outputs": [
    {
     "data": {
      "text/plain": [
       "0    Priti\n",
       "1     Puja\n",
       "2      Ram\n",
       "3    shyam\n",
       "4     hari\n",
       "Name: Name, dtype: object"
      ]
     },
     "execution_count": 141,
     "metadata": {},
     "output_type": "execute_result"
    }
   ],
   "source": [
    "# Selecting one column\n",
    "df[\"Name\"]"
   ]
  },
  {
   "cell_type": "code",
   "execution_count": 142,
   "id": "7204f9ee-6f0c-40b4-9454-ea8c11946569",
   "metadata": {},
   "outputs": [
    {
     "data": {
      "text/html": [
       "<div>\n",
       "<style scoped>\n",
       "    .dataframe tbody tr th:only-of-type {\n",
       "        vertical-align: middle;\n",
       "    }\n",
       "\n",
       "    .dataframe tbody tr th {\n",
       "        vertical-align: top;\n",
       "    }\n",
       "\n",
       "    .dataframe thead th {\n",
       "        text-align: right;\n",
       "    }\n",
       "</style>\n",
       "<table border=\"1\" class=\"dataframe\">\n",
       "  <thead>\n",
       "    <tr style=\"text-align: right;\">\n",
       "      <th></th>\n",
       "      <th>Name</th>\n",
       "      <th>age</th>\n",
       "    </tr>\n",
       "  </thead>\n",
       "  <tbody>\n",
       "    <tr>\n",
       "      <th>0</th>\n",
       "      <td>Priti</td>\n",
       "      <td>21</td>\n",
       "    </tr>\n",
       "    <tr>\n",
       "      <th>1</th>\n",
       "      <td>Puja</td>\n",
       "      <td>33</td>\n",
       "    </tr>\n",
       "    <tr>\n",
       "      <th>2</th>\n",
       "      <td>Ram</td>\n",
       "      <td>26</td>\n",
       "    </tr>\n",
       "    <tr>\n",
       "      <th>3</th>\n",
       "      <td>shyam</td>\n",
       "      <td>32</td>\n",
       "    </tr>\n",
       "    <tr>\n",
       "      <th>4</th>\n",
       "      <td>hari</td>\n",
       "      <td>30</td>\n",
       "    </tr>\n",
       "  </tbody>\n",
       "</table>\n",
       "</div>"
      ],
      "text/plain": [
       "    Name  age\n",
       "0  Priti   21\n",
       "1   Puja   33\n",
       "2    Ram   26\n",
       "3  shyam   32\n",
       "4   hari   30"
      ]
     },
     "execution_count": 142,
     "metadata": {},
     "output_type": "execute_result"
    }
   ],
   "source": [
    "# select multiple column\n",
    "df[[\"Name\",\"age\"]]"
   ]
  },
  {
   "cell_type": "code",
   "execution_count": 143,
   "id": "68b7afbd-dd8f-43e7-847d-87ed178147e6",
   "metadata": {},
   "outputs": [
    {
     "data": {
      "text/plain": [
       "Name    Ram\n",
       "age      26\n",
       "city    Bkr\n",
       "Name: 2, dtype: object"
      ]
     },
     "execution_count": 143,
     "metadata": {},
     "output_type": "execute_result"
    }
   ],
   "source": [
    "# selecting roes by index\n",
    "df.loc[2]"
   ]
  },
  {
   "cell_type": "markdown",
   "id": "c88760b7-bba0-46f4-9e66-10fbc4d03270",
   "metadata": {
    "jp-MarkdownHeadingCollapsed": true
   },
   "source": [
    "### Filtering Data"
   ]
  },
  {
   "cell_type": "code",
   "execution_count": 144,
   "id": "9bf4b626-9e9e-49af-bba4-9bcfbb1b7957",
   "metadata": {},
   "outputs": [
    {
     "name": "stdout",
     "output_type": "stream",
     "text": [
      "0    False\n",
      "1     True\n",
      "2     True\n",
      "3     True\n",
      "4     True\n",
      "Name: age, dtype: bool\n"
     ]
    },
    {
     "data": {
      "text/html": [
       "<div>\n",
       "<style scoped>\n",
       "    .dataframe tbody tr th:only-of-type {\n",
       "        vertical-align: middle;\n",
       "    }\n",
       "\n",
       "    .dataframe tbody tr th {\n",
       "        vertical-align: top;\n",
       "    }\n",
       "\n",
       "    .dataframe thead th {\n",
       "        text-align: right;\n",
       "    }\n",
       "</style>\n",
       "<table border=\"1\" class=\"dataframe\">\n",
       "  <thead>\n",
       "    <tr style=\"text-align: right;\">\n",
       "      <th></th>\n",
       "      <th>Name</th>\n",
       "      <th>age</th>\n",
       "      <th>city</th>\n",
       "    </tr>\n",
       "  </thead>\n",
       "  <tbody>\n",
       "    <tr>\n",
       "      <th>1</th>\n",
       "      <td>Puja</td>\n",
       "      <td>33</td>\n",
       "      <td>Bkt</td>\n",
       "    </tr>\n",
       "    <tr>\n",
       "      <th>2</th>\n",
       "      <td>Ram</td>\n",
       "      <td>26</td>\n",
       "      <td>Bkr</td>\n",
       "    </tr>\n",
       "    <tr>\n",
       "      <th>3</th>\n",
       "      <td>shyam</td>\n",
       "      <td>32</td>\n",
       "      <td>ltr</td>\n",
       "    </tr>\n",
       "    <tr>\n",
       "      <th>4</th>\n",
       "      <td>hari</td>\n",
       "      <td>30</td>\n",
       "      <td>ktm</td>\n",
       "    </tr>\n",
       "  </tbody>\n",
       "</table>\n",
       "</div>"
      ],
      "text/plain": [
       "    Name  age city\n",
       "1   Puja   33  Bkt\n",
       "2    Ram   26  Bkr\n",
       "3  shyam   32  ltr\n",
       "4   hari   30  ktm"
      ]
     },
     "execution_count": 144,
     "metadata": {},
     "output_type": "execute_result"
    }
   ],
   "source": [
    "# filtering rows where age is greater than 25\n",
    "print(df[\"age\"] > 25)\n",
    "df[df[\"age\"]>25]"
   ]
  },
  {
   "cell_type": "code",
   "execution_count": 145,
   "id": "3afdeab7-0e95-48e1-84a1-4ad537f32d7b",
   "metadata": {},
   "outputs": [
    {
     "data": {
      "text/html": [
       "<div>\n",
       "<style scoped>\n",
       "    .dataframe tbody tr th:only-of-type {\n",
       "        vertical-align: middle;\n",
       "    }\n",
       "\n",
       "    .dataframe tbody tr th {\n",
       "        vertical-align: top;\n",
       "    }\n",
       "\n",
       "    .dataframe thead th {\n",
       "        text-align: right;\n",
       "    }\n",
       "</style>\n",
       "<table border=\"1\" class=\"dataframe\">\n",
       "  <thead>\n",
       "    <tr style=\"text-align: right;\">\n",
       "      <th></th>\n",
       "      <th>Name</th>\n",
       "      <th>age</th>\n",
       "      <th>city</th>\n",
       "    </tr>\n",
       "  </thead>\n",
       "  <tbody>\n",
       "    <tr>\n",
       "      <th>0</th>\n",
       "      <td>Priti</td>\n",
       "      <td>21</td>\n",
       "      <td>ktm</td>\n",
       "    </tr>\n",
       "    <tr>\n",
       "      <th>4</th>\n",
       "      <td>hari</td>\n",
       "      <td>30</td>\n",
       "      <td>ktm</td>\n",
       "    </tr>\n",
       "  </tbody>\n",
       "</table>\n",
       "</div>"
      ],
      "text/plain": [
       "    Name  age city\n",
       "0  Priti   21  ktm\n",
       "4   hari   30  ktm"
      ]
     },
     "execution_count": 145,
     "metadata": {},
     "output_type": "execute_result"
    }
   ],
   "source": [
    "# filter rows where city is ktm\n",
    "df[df[\"city\"]==\"ktm\"]"
   ]
  },
  {
   "cell_type": "code",
   "execution_count": 146,
   "id": "7503ebd1-c697-4d8c-be1d-0b06dae8d6f6",
   "metadata": {},
   "outputs": [
    {
     "data": {
      "text/html": [
       "<div>\n",
       "<style scoped>\n",
       "    .dataframe tbody tr th:only-of-type {\n",
       "        vertical-align: middle;\n",
       "    }\n",
       "\n",
       "    .dataframe tbody tr th {\n",
       "        vertical-align: top;\n",
       "    }\n",
       "\n",
       "    .dataframe thead th {\n",
       "        text-align: right;\n",
       "    }\n",
       "</style>\n",
       "<table border=\"1\" class=\"dataframe\">\n",
       "  <thead>\n",
       "    <tr style=\"text-align: right;\">\n",
       "      <th></th>\n",
       "      <th>Name</th>\n",
       "      <th>age</th>\n",
       "      <th>city</th>\n",
       "    </tr>\n",
       "  </thead>\n",
       "  <tbody>\n",
       "    <tr>\n",
       "      <th>4</th>\n",
       "      <td>hari</td>\n",
       "      <td>30</td>\n",
       "      <td>ktm</td>\n",
       "    </tr>\n",
       "  </tbody>\n",
       "</table>\n",
       "</div>"
      ],
      "text/plain": [
       "   Name  age city\n",
       "4  hari   30  ktm"
      ]
     },
     "execution_count": 146,
     "metadata": {},
     "output_type": "execute_result"
    }
   ],
   "source": [
    "# filtering where age is greater than 25 and city is ktm\n",
    "df[(df[\"city\"]==\"ktm\") & (df[\"age\"]>25)]"
   ]
  },
  {
   "cell_type": "markdown",
   "id": "2d49ef73-043c-4509-999c-f14b377be7cb",
   "metadata": {},
   "source": [
    "### Adding & Modifying Columns"
   ]
  },
  {
   "cell_type": "code",
   "execution_count": 147,
   "id": "1d6dc0a7-14f9-4be9-94b2-868a3b28c428",
   "metadata": {},
   "outputs": [
    {
     "name": "stdout",
     "output_type": "stream",
     "text": [
      "    Name  age city  score\n",
      "0  Priti   21  ktm     85\n",
      "1   Puja   33  Bkt     90\n",
      "2    Ram   26  Bkr     75\n",
      "3  shyam   32  ltr     85\n",
      "4   hari   30  ktm     95\n"
     ]
    }
   ],
   "source": [
    "df[\"score\"] = [85, 90, 75, 85, 95]\n",
    "print(df)"
   ]
  },
  {
   "cell_type": "code",
   "execution_count": 148,
   "id": "3fa443da-0375-4fb4-aa5c-5d35c0b40dd9",
   "metadata": {},
   "outputs": [
    {
     "name": "stdout",
     "output_type": "stream",
     "text": [
      "    Name  age city  score\n",
      "0  Priti   21  ktm     85\n",
      "1   Puja   33  Bkt     90\n",
      "2    Ram   26  Bkr     75\n",
      "3  shyam   32  ltr     85\n",
      "4   hari   30  ktm     95\n",
      "    Name  age city  score\n",
      "0  Priti   21  ktm     85\n",
      "1   Puja   33  bkt     90\n",
      "2    Ram   26  bkr     75\n",
      "3  shyam   32  ltr     85\n",
      "4   hari   30  ktm     95\n"
     ]
    }
   ],
   "source": [
    "# change values in column ( making all the string in age lower case)\n",
    "print(df)\n",
    "df[\"city\"] = df[\"city\"].str.lower()\n",
    "print(df)"
   ]
  },
  {
   "cell_type": "code",
   "execution_count": 149,
   "id": "8dfef2d3-3bb0-4c6e-995a-9572cd8e9f22",
   "metadata": {},
   "outputs": [
    {
     "name": "stdout",
     "output_type": "stream",
     "text": [
      "    Name  age city  score\n",
      "0  Priti   18  ktm     85\n",
      "1   Puja   33  bkt     90\n",
      "2    Ram   26  bkr     75\n",
      "3  shyam   32  ltr     85\n",
      "4   hari   30  ktm     95\n"
     ]
    }
   ],
   "source": [
    "# update a single cell-(0)\n",
    "df.at[0,\"age\"]=18\n",
    "print(df)"
   ]
  },
  {
   "cell_type": "markdown",
   "id": "8e220620-80b9-4432-9293-39fd80b429b3",
   "metadata": {},
   "source": [
    "### sorting data\n"
   ]
  },
  {
   "cell_type": "code",
   "execution_count": 150,
   "id": "93bda8d6-d287-4bc8-b0e4-51c224e4a0bb",
   "metadata": {},
   "outputs": [
    {
     "data": {
      "text/html": [
       "<div>\n",
       "<style scoped>\n",
       "    .dataframe tbody tr th:only-of-type {\n",
       "        vertical-align: middle;\n",
       "    }\n",
       "\n",
       "    .dataframe tbody tr th {\n",
       "        vertical-align: top;\n",
       "    }\n",
       "\n",
       "    .dataframe thead th {\n",
       "        text-align: right;\n",
       "    }\n",
       "</style>\n",
       "<table border=\"1\" class=\"dataframe\">\n",
       "  <thead>\n",
       "    <tr style=\"text-align: right;\">\n",
       "      <th></th>\n",
       "      <th>Name</th>\n",
       "      <th>age</th>\n",
       "      <th>city</th>\n",
       "      <th>score</th>\n",
       "    </tr>\n",
       "  </thead>\n",
       "  <tbody>\n",
       "    <tr>\n",
       "      <th>0</th>\n",
       "      <td>Priti</td>\n",
       "      <td>18</td>\n",
       "      <td>ktm</td>\n",
       "      <td>85</td>\n",
       "    </tr>\n",
       "    <tr>\n",
       "      <th>2</th>\n",
       "      <td>Ram</td>\n",
       "      <td>26</td>\n",
       "      <td>bkr</td>\n",
       "      <td>75</td>\n",
       "    </tr>\n",
       "    <tr>\n",
       "      <th>4</th>\n",
       "      <td>hari</td>\n",
       "      <td>30</td>\n",
       "      <td>ktm</td>\n",
       "      <td>95</td>\n",
       "    </tr>\n",
       "    <tr>\n",
       "      <th>3</th>\n",
       "      <td>shyam</td>\n",
       "      <td>32</td>\n",
       "      <td>ltr</td>\n",
       "      <td>85</td>\n",
       "    </tr>\n",
       "    <tr>\n",
       "      <th>1</th>\n",
       "      <td>Puja</td>\n",
       "      <td>33</td>\n",
       "      <td>bkt</td>\n",
       "      <td>90</td>\n",
       "    </tr>\n",
       "  </tbody>\n",
       "</table>\n",
       "</div>"
      ],
      "text/plain": [
       "    Name  age city  score\n",
       "0  Priti   18  ktm     85\n",
       "2    Ram   26  bkr     75\n",
       "4   hari   30  ktm     95\n",
       "3  shyam   32  ltr     85\n",
       "1   Puja   33  bkt     90"
      ]
     },
     "execution_count": 150,
     "metadata": {},
     "output_type": "execute_result"
    }
   ],
   "source": [
    "# sort by age\n",
    "df.sort_values(by=\"age\")"
   ]
  },
  {
   "cell_type": "code",
   "execution_count": 151,
   "id": "072121f7-4c93-4280-a68b-a6beae4bf691",
   "metadata": {},
   "outputs": [
    {
     "data": {
      "text/html": [
       "<div>\n",
       "<style scoped>\n",
       "    .dataframe tbody tr th:only-of-type {\n",
       "        vertical-align: middle;\n",
       "    }\n",
       "\n",
       "    .dataframe tbody tr th {\n",
       "        vertical-align: top;\n",
       "    }\n",
       "\n",
       "    .dataframe thead th {\n",
       "        text-align: right;\n",
       "    }\n",
       "</style>\n",
       "<table border=\"1\" class=\"dataframe\">\n",
       "  <thead>\n",
       "    <tr style=\"text-align: right;\">\n",
       "      <th></th>\n",
       "      <th>Name</th>\n",
       "      <th>age</th>\n",
       "      <th>city</th>\n",
       "      <th>score</th>\n",
       "    </tr>\n",
       "  </thead>\n",
       "  <tbody>\n",
       "    <tr>\n",
       "      <th>1</th>\n",
       "      <td>Puja</td>\n",
       "      <td>33</td>\n",
       "      <td>bkt</td>\n",
       "      <td>90</td>\n",
       "    </tr>\n",
       "    <tr>\n",
       "      <th>3</th>\n",
       "      <td>shyam</td>\n",
       "      <td>32</td>\n",
       "      <td>ltr</td>\n",
       "      <td>85</td>\n",
       "    </tr>\n",
       "    <tr>\n",
       "      <th>4</th>\n",
       "      <td>hari</td>\n",
       "      <td>30</td>\n",
       "      <td>ktm</td>\n",
       "      <td>95</td>\n",
       "    </tr>\n",
       "    <tr>\n",
       "      <th>2</th>\n",
       "      <td>Ram</td>\n",
       "      <td>26</td>\n",
       "      <td>bkr</td>\n",
       "      <td>75</td>\n",
       "    </tr>\n",
       "    <tr>\n",
       "      <th>0</th>\n",
       "      <td>Priti</td>\n",
       "      <td>18</td>\n",
       "      <td>ktm</td>\n",
       "      <td>85</td>\n",
       "    </tr>\n",
       "  </tbody>\n",
       "</table>\n",
       "</div>"
      ],
      "text/plain": [
       "    Name  age city  score\n",
       "1   Puja   33  bkt     90\n",
       "3  shyam   32  ltr     85\n",
       "4   hari   30  ktm     95\n",
       "2    Ram   26  bkr     75\n",
       "0  Priti   18  ktm     85"
      ]
     },
     "execution_count": 151,
     "metadata": {},
     "output_type": "execute_result"
    }
   ],
   "source": [
    "# sorting by age in ascending order\n",
    "df.sort_values(by=\"age\",ascending= False)"
   ]
  },
  {
   "cell_type": "markdown",
   "id": "c5bcfa74-6235-42ec-b5d8-bb0e1051160f",
   "metadata": {},
   "source": [
    "### Removing Data"
   ]
  },
  {
   "cell_type": "code",
   "execution_count": 153,
   "id": "c52ccd14-8a7b-483f-a906-70b7a9635d40",
   "metadata": {},
   "outputs": [
    {
     "name": "stdout",
     "output_type": "stream",
     "text": [
      "    Name  age city\n",
      "0  Priti   18  ktm\n",
      "1   Puja   33  bkt\n",
      "2    Ram   26  bkr\n",
      "3  shyam   32  ltr\n",
      "4   hari   30  ktm\n"
     ]
    }
   ],
   "source": [
    "# removing column\n",
    "\n",
    "df.drop(columns=\"score\", inplace=True)\n",
    "print(df)"
   ]
  },
  {
   "cell_type": "code",
   "execution_count": 154,
   "id": "074570f4-2cb2-4140-8ac1-ae4675a7f4c7",
   "metadata": {},
   "outputs": [],
   "source": [
    "# remove a row\n",
    "df.drop(index=2, inplace=True)"
   ]
  },
  {
   "cell_type": "code",
   "execution_count": null,
   "id": "c42bb709-6c4c-427b-8b94-d0d16541ffcd",
   "metadata": {},
   "outputs": [],
   "source": []
  }
 ],
 "metadata": {
  "kernelspec": {
   "display_name": "Python 3 (ipykernel)",
   "language": "python",
   "name": "python3"
  },
  "language_info": {
   "codemirror_mode": {
    "name": "ipython",
    "version": 3
   },
   "file_extension": ".py",
   "mimetype": "text/x-python",
   "name": "python",
   "nbconvert_exporter": "python",
   "pygments_lexer": "ipython3",
   "version": "3.13.5"
  }
 },
 "nbformat": 4,
 "nbformat_minor": 5
}

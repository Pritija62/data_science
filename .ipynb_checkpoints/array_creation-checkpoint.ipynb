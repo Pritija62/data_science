{
 "cells": [
  {
   "cell_type": "code",
   "execution_count": 1,
   "id": "56e49d10-4fe4-4dc5-8aad-b72bcae1ca5a",
   "metadata": {},
   "outputs": [],
   "source": [
    "import numpy as np\n"
   ]
  },
  {
   "cell_type": "markdown",
   "id": "4c19fa52-75b7-40d2-a3fa-ae203c7924a0",
   "metadata": {},
   "source": [
    "## array creation\n"
   ]
  },
  {
   "cell_type": "code",
   "execution_count": 5,
   "id": "d41543fc-ab37-44da-8213-2716068e9709",
   "metadata": {},
   "outputs": [
    {
     "name": "stdout",
     "output_type": "stream",
     "text": [
      "[ 1  2  3  4  5  6  7  8  9 10]\n"
     ]
    }
   ],
   "source": [
    "#create a 1d array with number from 1 to 0\n",
    "arr_1= np.arange(1,11)\n",
    "print(arr_1)"
   ]
  },
  {
   "cell_type": "code",
   "execution_count": 9,
   "id": "11efa332-a486-48b5-9184-cb869080ef16",
   "metadata": {},
   "outputs": [
    {
     "name": "stdout",
     "output_type": "stream",
     "text": [
      "[[0. 0. 0.]\n",
      " [0. 0. 0.]\n",
      " [0. 0. 0.]]\n"
     ]
    }
   ],
   "source": [
    "#create a 3*3 numpy array filled with 0\n",
    "arr_2=np.zeros([3,3])\n",
    "print (arr_2)"
   ]
  },
  {
   "cell_type": "code",
   "execution_count": 14,
   "id": "4ee541cc-263e-4134-bbd1-0ed29bce1101",
   "metadata": {},
   "outputs": [
    {
     "name": "stdout",
     "output_type": "stream",
     "text": [
      "[[2 2 2 2 2 2 2 2 2 2]]\n"
     ]
    }
   ],
   "source": [
    "# create an array of 10 digits numbers filled with 2\n",
    "arr_3=np.full([1,10],2)\n",
    "print(arr_3)"
   ]
  },
  {
   "cell_type": "code",
   "execution_count": 16,
   "id": "448e6870-d481-468f-84ea-45dcabecd062",
   "metadata": {},
   "outputs": [
    {
     "name": "stdout",
     "output_type": "stream",
     "text": [
      "[5 1 9 8 7 7 6 8 5 9]\n"
     ]
    }
   ],
   "source": [
    "#Create an array of 10 random integers between 1 and 10\n",
    "arr = np.random.randint(1, 10, size=10)\n",
    "print(arr)"
   ]
  },
  {
   "cell_type": "code",
   "execution_count": null,
   "id": "148392ff-e1c8-440d-bb97-46e878dab23c",
   "metadata": {},
   "outputs": [],
   "source": [
    "#"
   ]
  }
 ],
 "metadata": {
  "kernelspec": {
   "display_name": "Python 3 (ipykernel)",
   "language": "python",
   "name": "python3"
  },
  "language_info": {
   "codemirror_mode": {
    "name": "ipython",
    "version": 3
   },
   "file_extension": ".py",
   "mimetype": "text/x-python",
   "name": "python",
   "nbconvert_exporter": "python",
   "pygments_lexer": "ipython3",
   "version": "3.13.5"
  }
 },
 "nbformat": 4,
 "nbformat_minor": 5
}

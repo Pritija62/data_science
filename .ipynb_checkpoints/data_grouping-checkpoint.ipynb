{
 "cells": [
  {
   "cell_type": "code",
   "execution_count": 2,
   "id": "c91c6977-fdc2-476e-adce-d910591cc635",
   "metadata": {},
   "outputs": [],
   "source": [
    "import pandas as pd"
   ]
  },
  {
   "cell_type": "code",
   "execution_count": 5,
   "id": "4c3d309c-609a-460a-b439-1460accbe345",
   "metadata": {},
   "outputs": [
    {
     "data": {
      "text/html": [
       "<div>\n",
       "<style scoped>\n",
       "    .dataframe tbody tr th:only-of-type {\n",
       "        vertical-align: middle;\n",
       "    }\n",
       "\n",
       "    .dataframe tbody tr th {\n",
       "        vertical-align: top;\n",
       "    }\n",
       "\n",
       "    .dataframe thead th {\n",
       "        text-align: right;\n",
       "    }\n",
       "</style>\n",
       "<table border=\"1\" class=\"dataframe\">\n",
       "  <thead>\n",
       "    <tr style=\"text-align: right;\">\n",
       "      <th></th>\n",
       "      <th>Store</th>\n",
       "      <th>Product</th>\n",
       "      <th>Quantity</th>\n",
       "    </tr>\n",
       "  </thead>\n",
       "  <tbody>\n",
       "    <tr>\n",
       "      <th>0</th>\n",
       "      <td>A</td>\n",
       "      <td>Apple</td>\n",
       "      <td>10</td>\n",
       "    </tr>\n",
       "    <tr>\n",
       "      <th>1</th>\n",
       "      <td>A</td>\n",
       "      <td>Banana</td>\n",
       "      <td>5</td>\n",
       "    </tr>\n",
       "    <tr>\n",
       "      <th>2</th>\n",
       "      <td>B</td>\n",
       "      <td>Apple</td>\n",
       "      <td>8</td>\n",
       "    </tr>\n",
       "    <tr>\n",
       "      <th>3</th>\n",
       "      <td>B</td>\n",
       "      <td>Banana</td>\n",
       "      <td>12</td>\n",
       "    </tr>\n",
       "  </tbody>\n",
       "</table>\n",
       "</div>"
      ],
      "text/plain": [
       "  Store Product  Quantity\n",
       "0     A   Apple        10\n",
       "1     A  Banana         5\n",
       "2     B   Apple         8\n",
       "3     B  Banana        12"
      ]
     },
     "execution_count": 5,
     "metadata": {},
     "output_type": "execute_result"
    }
   ],
   "source": [
    "data1 = {\n",
    "    'Store': ['A', 'A', 'B', 'B'],\n",
    "    'Product': ['Apple', 'Banana', 'Apple', 'Banana'],\n",
    "    'Quantity': [10, 5, 8, 12]\n",
    "}\n",
    "df = pd.DataFrame(data)\n",
    "df"
   ]
  },
  {
   "cell_type": "code",
   "execution_count": 7,
   "id": "12508b3a-71ce-4c27-84dd-8cf6c8a9be9d",
   "metadata": {},
   "outputs": [
    {
     "data": {
      "text/plain": [
       "Store\n",
       "A    15\n",
       "B    20\n",
       "Name: Quantity, dtype: int64"
      ]
     },
     "execution_count": 7,
     "metadata": {},
     "output_type": "execute_result"
    }
   ],
   "source": [
    "\n",
    "grouped = df.groupby('Store')['Quantity'].sum()\n",
    "grouped"
   ]
  },
  {
   "cell_type": "code",
   "execution_count": 10,
   "id": "bb56caad-c0ed-4557-9351-f58d786660a4",
   "metadata": {},
   "outputs": [
    {
     "name": "stdout",
     "output_type": "stream",
     "text": [
      "  Store Product  Quantity  Price\n",
      "0     A   Apple        10    1.2\n",
      "1     A  Banana         5    0.5\n",
      "2     B   Apple         8    1.2\n",
      "3     B  Banana        12    0.5\n",
      "4     C   Apple        15    1.2\n",
      "5     C  Banana         7    0.5\n",
      "6     A   Apple         5    1.2\n",
      "7     B  Banana         3    0.5\n"
     ]
    }
   ],
   "source": [
    "\n",
    "\n",
    "data = {\n",
    "    'Store': ['A', 'A', 'B', 'B', 'C', 'C', 'A', 'B'],\n",
    "    'Product': ['Apple', 'Banana', 'Apple', 'Banana', 'Apple', 'Banana', 'Apple', 'Banana'],\n",
    "    'Quantity': [10, 5, 8, 12, 15, 7, 5, 3],\n",
    "    'Price': [1.2, 0.5, 1.2, 0.5, 1.2, 0.5, 1.2, 0.5]\n",
    "}\n",
    "\n",
    "df = pd.DataFrame(data)\n",
    "print(df)"
   ]
  },
  {
   "cell_type": "code",
   "execution_count": 16,
   "id": "cee4f7c6-9cbd-46ab-9e7e-c6017fd32d2c",
   "metadata": {},
   "outputs": [
    {
     "data": {
      "text/plain": [
       "Store\n",
       "A    20\n",
       "B    23\n",
       "C    22\n",
       "Name: Quantity, dtype: int64"
      ]
     },
     "execution_count": 16,
     "metadata": {},
     "output_type": "execute_result"
    }
   ],
   "source": [
    "# Group by store and calculate total quantity sold per store\n",
    "group_by_store= df.groupby('Store')['Quantity'].sum()\n",
    "group_by_store"
   ]
  },
  {
   "cell_type": "code",
   "execution_count": 21,
   "id": "a0e77113-2560-443c-817f-326af236fb98",
   "metadata": {},
   "outputs": [
    {
     "data": {
      "text/plain": [
       "Product\n",
       "Apple     1.2\n",
       "Banana    0.5\n",
       "Name: Price, dtype: float64"
      ]
     },
     "execution_count": 21,
     "metadata": {},
     "output_type": "execute_result"
    }
   ],
   "source": [
    "#Group by Product and calculate average Price per Product.\n",
    "grp_by_product= df.groupby(\"Product\")[\"Price\"].mean()\n",
    "grp_by_product "
   ]
  },
  {
   "cell_type": "code",
   "execution_count": 25,
   "id": "a9c80ce6-8b19-44c4-b54d-000857828810",
   "metadata": {},
   "outputs": [
    {
     "data": {
      "text/plain": [
       "Product  Store\n",
       "Apple    A        15\n",
       "         B         8\n",
       "         C        15\n",
       "Banana   A         5\n",
       "         B        15\n",
       "         C         7\n",
       "Name: Quantity, dtype: int64"
      ]
     },
     "execution_count": 25,
     "metadata": {},
     "output_type": "execute_result"
    }
   ],
   "source": [
    "#Group by Store and Product, then calculate the total Quantity\n",
    "#sold for each Store-Product pair.\n",
    "grp_by_product = df.groupby([\"Product\", \"Store\"])[\"Quantity\"].sum()\n",
    "grp_by_product"
   ]
  },
  {
   "cell_type": "code",
   "execution_count": 31,
   "id": "f6ce0fcf-f160-4272-9a71-73822f68ced9",
   "metadata": {},
   "outputs": [
    {
     "data": {
      "text/html": [
       "<div>\n",
       "<style scoped>\n",
       "    .dataframe tbody tr th:only-of-type {\n",
       "        vertical-align: middle;\n",
       "    }\n",
       "\n",
       "    .dataframe tbody tr th {\n",
       "        vertical-align: top;\n",
       "    }\n",
       "\n",
       "    .dataframe thead th {\n",
       "        text-align: right;\n",
       "    }\n",
       "</style>\n",
       "<table border=\"1\" class=\"dataframe\">\n",
       "  <thead>\n",
       "    <tr style=\"text-align: right;\">\n",
       "      <th></th>\n",
       "      <th>Store</th>\n",
       "      <th>Product</th>\n",
       "      <th>Quantity</th>\n",
       "      <th>Price</th>\n",
       "      <th>Revenue</th>\n",
       "    </tr>\n",
       "  </thead>\n",
       "  <tbody>\n",
       "    <tr>\n",
       "      <th>0</th>\n",
       "      <td>A</td>\n",
       "      <td>Apple</td>\n",
       "      <td>10</td>\n",
       "      <td>1.2</td>\n",
       "      <td>12.0</td>\n",
       "    </tr>\n",
       "    <tr>\n",
       "      <th>1</th>\n",
       "      <td>A</td>\n",
       "      <td>Banana</td>\n",
       "      <td>5</td>\n",
       "      <td>0.5</td>\n",
       "      <td>2.5</td>\n",
       "    </tr>\n",
       "    <tr>\n",
       "      <th>2</th>\n",
       "      <td>B</td>\n",
       "      <td>Apple</td>\n",
       "      <td>8</td>\n",
       "      <td>1.2</td>\n",
       "      <td>9.6</td>\n",
       "    </tr>\n",
       "    <tr>\n",
       "      <th>3</th>\n",
       "      <td>B</td>\n",
       "      <td>Banana</td>\n",
       "      <td>12</td>\n",
       "      <td>0.5</td>\n",
       "      <td>6.0</td>\n",
       "    </tr>\n",
       "    <tr>\n",
       "      <th>4</th>\n",
       "      <td>C</td>\n",
       "      <td>Apple</td>\n",
       "      <td>15</td>\n",
       "      <td>1.2</td>\n",
       "      <td>18.0</td>\n",
       "    </tr>\n",
       "    <tr>\n",
       "      <th>5</th>\n",
       "      <td>C</td>\n",
       "      <td>Banana</td>\n",
       "      <td>7</td>\n",
       "      <td>0.5</td>\n",
       "      <td>3.5</td>\n",
       "    </tr>\n",
       "    <tr>\n",
       "      <th>6</th>\n",
       "      <td>A</td>\n",
       "      <td>Apple</td>\n",
       "      <td>5</td>\n",
       "      <td>1.2</td>\n",
       "      <td>6.0</td>\n",
       "    </tr>\n",
       "    <tr>\n",
       "      <th>7</th>\n",
       "      <td>B</td>\n",
       "      <td>Banana</td>\n",
       "      <td>3</td>\n",
       "      <td>0.5</td>\n",
       "      <td>1.5</td>\n",
       "    </tr>\n",
       "  </tbody>\n",
       "</table>\n",
       "</div>"
      ],
      "text/plain": [
       "  Store Product  Quantity  Price  Revenue\n",
       "0     A   Apple        10    1.2     12.0\n",
       "1     A  Banana         5    0.5      2.5\n",
       "2     B   Apple         8    1.2      9.6\n",
       "3     B  Banana        12    0.5      6.0\n",
       "4     C   Apple        15    1.2     18.0\n",
       "5     C  Banana         7    0.5      3.5\n",
       "6     A   Apple         5    1.2      6.0\n",
       "7     B  Banana         3    0.5      1.5"
      ]
     },
     "execution_count": 31,
     "metadata": {},
     "output_type": "execute_result"
    }
   ],
   "source": [
    "#Add a new column called Revenue = Quantity * Price, \n",
    "#then group by Store to get total Revenue per Store.\n",
    "df[\"Revenue\"]=df[\"Quantity\"]*df[\"Price\"]\n",
    "df"
   ]
  },
  {
   "cell_type": "code",
   "execution_count": 35,
   "id": "c0534d29-c00e-419f-9fa2-c1138f0093e8",
   "metadata": {},
   "outputs": [
    {
     "data": {
      "text/plain": [
       "Store\n",
       "A    20.5\n",
       "B    17.1\n",
       "C    21.5\n",
       "Name: Revenue, dtype: float64"
      ]
     },
     "execution_count": 35,
     "metadata": {},
     "output_type": "execute_result"
    }
   ],
   "source": [
    "grp_by_store= df.groupby(\"Store\")[\"Revenue\"].sum()\n",
    "grp_by_store"
   ]
  },
  {
   "cell_type": "code",
   "execution_count": 42,
   "id": "4887f470-3c6f-4763-acf6-541a2aa6d1c9",
   "metadata": {},
   "outputs": [
    {
     "data": {
      "text/html": [
       "<div>\n",
       "<style scoped>\n",
       "    .dataframe tbody tr th:only-of-type {\n",
       "        vertical-align: middle;\n",
       "    }\n",
       "\n",
       "    .dataframe tbody tr th {\n",
       "        vertical-align: top;\n",
       "    }\n",
       "\n",
       "    .dataframe thead th {\n",
       "        text-align: right;\n",
       "    }\n",
       "</style>\n",
       "<table border=\"1\" class=\"dataframe\">\n",
       "  <thead>\n",
       "    <tr style=\"text-align: right;\">\n",
       "      <th></th>\n",
       "      <th>Quantity</th>\n",
       "      <th>Price</th>\n",
       "      <th>Product</th>\n",
       "    </tr>\n",
       "    <tr>\n",
       "      <th>Store</th>\n",
       "      <th></th>\n",
       "      <th></th>\n",
       "      <th></th>\n",
       "    </tr>\n",
       "  </thead>\n",
       "  <tbody>\n",
       "    <tr>\n",
       "      <th>A</th>\n",
       "      <td>20</td>\n",
       "      <td>0.966667</td>\n",
       "      <td>3</td>\n",
       "    </tr>\n",
       "    <tr>\n",
       "      <th>B</th>\n",
       "      <td>23</td>\n",
       "      <td>0.733333</td>\n",
       "      <td>3</td>\n",
       "    </tr>\n",
       "    <tr>\n",
       "      <th>C</th>\n",
       "      <td>22</td>\n",
       "      <td>0.850000</td>\n",
       "      <td>2</td>\n",
       "    </tr>\n",
       "  </tbody>\n",
       "</table>\n",
       "</div>"
      ],
      "text/plain": [
       "       Quantity     Price  Product\n",
       "Store                             \n",
       "A            20  0.966667        3\n",
       "B            23  0.733333        3\n",
       "C            22  0.850000        2"
      ]
     },
     "execution_count": 42,
     "metadata": {},
     "output_type": "execute_result"
    }
   ],
   "source": [
    "# group by store and calculate total quantity, average price, and number of sales\n",
    "result = df.groupby('Store').agg({ # Lets us specify different aggregation functions for different columns\n",
    "    'Quantity': 'sum',     # total quantity\n",
    "    'Price': 'mean',       # average price\n",
    "    'Product': 'count'     # number of sales\n",
    "})\n",
    "result"
   ]
  },
  {
   "cell_type": "code",
   "execution_count": null,
   "id": "369efe8c-40b4-4bd3-bd1d-65b6063c712a",
   "metadata": {},
   "outputs": [],
   "source": []
  }
 ],
 "metadata": {
  "kernelspec": {
   "display_name": "Python 3 (ipykernel)",
   "language": "python",
   "name": "python3"
  },
  "language_info": {
   "codemirror_mode": {
    "name": "ipython",
    "version": 3
   },
   "file_extension": ".py",
   "mimetype": "text/x-python",
   "name": "python",
   "nbconvert_exporter": "python",
   "pygments_lexer": "ipython3",
   "version": "3.13.5"
  }
 },
 "nbformat": 4,
 "nbformat_minor": 5
}

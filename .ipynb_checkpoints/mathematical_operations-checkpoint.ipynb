{
 "cells": [
  {
   "cell_type": "code",
   "execution_count": 1,
   "id": "38ae5265-674c-4a3d-a28e-4581130544b6",
   "metadata": {},
   "outputs": [],
   "source": [
    "import numpy as np"
   ]
  },
  {
   "cell_type": "markdown",
   "id": "3bd9ff34-f832-478e-9461-31445cde5e77",
   "metadata": {},
   "source": [
    "## mathmatical operations"
   ]
  },
  {
   "cell_type": "code",
   "execution_count": 4,
   "id": "1058e132-301b-4192-a3af-4a9993008e4b",
   "metadata": {},
   "outputs": [
    {
     "name": "stdout",
     "output_type": "stream",
     "text": [
      "[1 2 3 4 5]\n",
      "[ 1  4  9 16 25]\n"
     ]
    }
   ],
   "source": [
    "#Create an array of numbers from 1 to 5, and square each number\n",
    "arr_1= np.arange(1,6)\n",
    "print(arr_1)\n",
    "new_arr1= arr_1**2\n",
    "print(new_arr1)"
   ]
  },
  {
   "cell_type": "code",
   "execution_count": 6,
   "id": "32343a20-51e3-4ec1-8a50-5c97f54324e9",
   "metadata": {},
   "outputs": [
    {
     "name": "stdout",
     "output_type": "stream",
     "text": [
      "[5 7 9]\n"
     ]
    }
   ],
   "source": [
    "##Given two arrays a = [1, 2, 3] and b = [4, 5, 6], find their element-wise sum and product.\n",
    "\n",
    "arr_2= np.array([1,2,3] )\n",
    "arr_3=np.array([4,5,6])\n",
    "new_arr= arr_2+arr_3\n",
    "print(new_arr)"
   ]
  },
  {
   "cell_type": "code",
   "execution_count": 7,
   "id": "571dc1ab-9835-408c-8240-97d768919a04",
   "metadata": {},
   "outputs": [
    {
     "name": "stdout",
     "output_type": "stream",
     "text": [
      "[10 20 30 40 50]\n"
     ]
    }
   ],
   "source": [
    "##Multiply every element of an array by 10.\n",
    "\n",
    "arr_4= np.array([1,2,3,4,5])\n",
    "new_arr4= arr_4*10\n",
    "print(new_arr4)"
   ]
  },
  {
   "cell_type": "markdown",
   "id": "2af80076-985f-47be-a0e6-f41a095d0aba",
   "metadata": {},
   "source": [
    "\n",
    "## statistics and logic\n"
   ]
  },
  {
   "cell_type": "code",
   "execution_count": null,
   "id": "17265dad-b148-4f22-a0db-e391fe3d8167",
   "metadata": {},
   "outputs": [],
   "source": [
    "#Create a random array of 15 integers between 1 and 50, and find:\n",
    "#Minimum value\n",
    "#Maximum value\n",
    "#Mean\n",
    "#Standard deviation"
   ]
  },
  {
   "cell_type": "code",
   "execution_count": 8,
   "id": "63bc9905-cc6c-4d0c-a9e5-49d55c1d1840",
   "metadata": {},
   "outputs": [
    {
     "name": "stdout",
     "output_type": "stream",
     "text": [
      "[10 37 36  2 39 45 21 34 45  6 34 15 29 45  7]\n"
     ]
    }
   ],
   "source": [
    "arr = np.random.randint(1, 50, size=15)\n",
    "print(arr)"
   ]
  },
  {
   "cell_type": "code",
   "execution_count": 12,
   "id": "bc4eb7ab-4b95-4ccb-a8bf-5265cd6794e7",
   "metadata": {},
   "outputs": [
    {
     "name": "stdout",
     "output_type": "stream",
     "text": [
      "45\n",
      "2\n",
      "27.0\n",
      "14.908610487455451\n"
     ]
    }
   ],
   "source": [
    "maximum= np.max(arr)\n",
    "print(maximum)\n",
    "minimum= np.min(arr)\n",
    "print(minimum)\n",
    "mean_arr= np.mean(arr)\n",
    "print(mean)\n",
    "standard= np.std(arr)\n",
    "print(standard)"
   ]
  },
  {
   "cell_type": "code",
   "execution_count": 16,
   "id": "ad80f551-e47d-4b23-bf08-10f24084716c",
   "metadata": {},
   "outputs": [
    {
     "name": "stdout",
     "output_type": "stream",
     "text": [
      "[15 20 25]\n"
     ]
    }
   ],
   "source": [
    "#From the array [5, 10, 15, 20, 25], find the elements greater than 12.\n",
    "arr_5=np.array ([5,10,15,20,25])\n",
    "greater=(arr_5>12)\n",
    "filtered_elements = arr_5[greater]   # Use boolean indexing to filter\n",
    "print(filtered_elements)\n",
    "\n"
   ]
  },
  {
   "cell_type": "code",
   "execution_count": 20,
   "id": "a0481588-80f5-444b-9a29-f9ce91b888aa",
   "metadata": {},
   "outputs": [
    {
     "name": "stdout",
     "output_type": "stream",
     "text": [
      "[ 7 46 93 20 67 40 75 65 45 50 83 58 85 53  2]\n",
      "8\n"
     ]
    }
   ],
   "source": [
    "#Count how many elements in a random array are greater than 50.\n",
    "arr = np.random.randint(1, 100, size=15)\n",
    "print(arr)\n",
    "new_arr= arr[arr>50]\n",
    "print(new_arr.size)"
   ]
  }
 ],
 "metadata": {
  "kernelspec": {
   "display_name": "Python 3 (ipykernel)",
   "language": "python",
   "name": "python3"
  },
  "language_info": {
   "codemirror_mode": {
    "name": "ipython",
    "version": 3
   },
   "file_extension": ".py",
   "mimetype": "text/x-python",
   "name": "python",
   "nbconvert_exporter": "python",
   "pygments_lexer": "ipython3",
   "version": "3.13.5"
  }
 },
 "nbformat": 4,
 "nbformat_minor": 5
}
